{
 "cells": [
  {
   "cell_type": "markdown",
   "metadata": {
    "lines_to_next_cell": 2,
    "slideshow": {
     "slide_type": "slide"
    }
   },
   "source": [
    "# Introduction to Version Control using Git\n"
   ]
  },
  {
   "cell_type": "markdown",
   "metadata": {},
   "source": [
    "--------------------------------------\n",
    "</br>\n",
    "\n",
    "This chapter is a `practical exercise,` where we'll be learning about how to work with the `version control system \"Git\".` A valuable skill for anyone interested in scientific research, software development, or online project collaboration.\n",
    "\n",
    "We'll be mostly learning and practicing the basics of Git: creating a repository, making changes, staging changes, and creating commits. If these names are confusing, don't worry; we'll explain them in the following sections.\n",
    "\n",
    "To find out more about the accompanying online service for Git - `Github` check out the next lesson: [Intro to GitHub](https://diler-digitell.github.io/dm_workshop_setup/prerequisites/github.html)\n",
    "\n",
    "---------------------------------\n",
    "\n",
    "### Motivation:\n",
    "\n",
    "Fairly simple: Version control is invaluable; being able to track and restore lost content or restoring earlier versions of files that contain, e.g., mistakes or bugs, is like having a \"save button\" in a video game, providing a point from which you can instantly restart your work.\n",
    "\n",
    "Git further is the industry standard for every programmer or scientist working with software for, e.g., statistical analyses. It makes your life easier and elevates your chances of actually finding employment in, e.g., academia.\n",
    "\n",
    "--------------------------------------------\n",
    "\n"
   ]
  },
  {
   "cell_type": "markdown",
   "metadata": {},
   "source": [
    "\n",
    "\n",
    "## Before we get started: Setup\n",
    "\n",
    "For this part of the lecture, you will have to follow along on your own machine. \n",
    "\n",
    "Windows users will have to download the `Windows-subystems-for-linux (wsl)` application; this will install a Unix subsystem, which will allow you to work with the bash shell. Simply follow, e.g., the [Foss Guide: Install bash on windows](https://itsfoss.com/install-bash-on-windows/). Bash already comes preinstalled on Unix systems such as Linux and Mac. \n",
    "\n",
    "To use Git on your local machine to log any changes you make to your project and submit your changes to the internet, you'll need the following:\n",
    "\n",
    "- a GitHub account\n",
    "- [Git](https://git-scm.com/downloads)\n",
    "- Bash\n",
    "\n",
    "We've already discussed how to set up a GitHub account and create an online repo. How to get the rest of the listed software is explained in detail in our complete [Setup section](https://diler-digitell.github.io/Jupyter-Book/setup.html). \n",
    "\n",
    "`Bash` is used in [command-line interfaces](https://www.techtarget.com/searchwindowsserver/definition/command-line-interface-CLI) for interacting with the operating system. In essence, `Bash` can be seen as a programming language with the main purpose of navigating the file system, manipulating files and directories, running programs, and automating tasks using scripts and workflows. \n",
    "\n",
    "It is mainly used in scientific computing and data analysis for its ability to automate complex workflows and control flows of large datasets, but it's further essential to use the version control system `Git` from the command line. Find out more about it in our chapter [Unix Shell and Bash](https://diler-digitell.github.io/DiLER_digital_literacy_course/content/intro_to_shell.html)\n",
    "\n",
    "\n",
    "**Check if you're ready**\n",
    "\n",
    "* Can you open a text editor? (e.g., Linux: gedit, nano. macOS: textedit. Windows: notepad)\n",
    "* Can you go to your GitHub account?\n",
    "* When you open a terminal on your system and type `git --version`, does it output the version number? (macOS / Linux: you might need to run this: `conda install -c anaconda git`)\n",
    "    \n",
    "--------------------------------------------\n",
    "\n",
    "You may **not need Bash and instead opt to install the [Gitkraken client](https://www.gitkraken.com/)**, a software package including a Graphical-user-interface to manage all your git/Github projects. If you're not too familiar with coding or simply prefer to have a visual overview of the exact changes you've made, your version history, etc., this might just be the better choice for you.\n",
    "\n",
    "Simply download and install the [Gitkraken client](https://help.gitkraken.com/gitkraken-client/how-to-install/) and [connect it to your online Github profile](https://www.youtube.com/watch?v=5nhNfMcczlQ).\n",
    "\n",
    "</br>\n",
    "</br>\n",
    "\n"
   ]
  },
  {
   "cell_type": "markdown",
   "metadata": {
    "slideshow": {
     "slide_type": "subslide"
    }
   },
   "source": [
    "### Configure git (if you haven't already)\n",
    "\n",
    "As git doesn't work straight out of the box, we'll have to first provide our credentials. Just copy paste the following lines into a bash shell (remember how to open those?).\n",
    "\n",
    "```\n",
    "git config --global user.name \"<Vlad Dracula>\"\n",
    "git config --global user.email \"<vlad@tran.sylvan.ia>\"\n",
    "```\n",
    "*use the email you used for your GitHub account*  👆\n",
    "\n",
    "#### macOS / Linux\n",
    "```\n",
    "git config --global core.autocrlf input\n",
    "```\n",
    "\n",
    "#### Windows\n",
    "```\n",
    "git config --global core.autocrlf true\n",
    "\n",
    "```"
   ]
  },
  {
   "cell_type": "markdown",
   "metadata": {},
   "source": [
    "If you're confused about the language used or want to understand things in greater detail, there are great resources out there for you to explore:\n",
    "\n",
    "- [Git definitions](https://www.gitkraken.com/learn/git/definitions)\n",
    "\n",
    "- [Git tutorials](https://www.gitkraken.com/learn/git/tutorials)\n",
    "\n",
    "- [Learning Git with Gitkraken](https://help.gitkraken.com/gitkraken-client/gitkraken-client-home/)\n",
    "\n",
    "For more information on how to make Git work for you: [Software Carpentry's tutorial](https://swcarpentry.github.io/git-novice/)\n"
   ]
  },
  {
   "cell_type": "markdown",
   "metadata": {
    "lines_to_next_cell": 2,
    "slideshow": {
     "slide_type": "subslide"
    }
   },
   "source": [
    "## Goals\n",
    "1. Explain why git/GitHub is useful\n",
    "2. Track and share your work using git/GitHub (git level 1: commit push)\n",
    "3. Contribute to a project using git/GitHub (git level 2: branches PRs)"
   ]
  },
  {
   "cell_type": "markdown",
   "metadata": {
    "slideshow": {
     "slide_type": "slide"
    }
   },
   "source": [
    "## Import side note:\n",
    "\n",
    "**throughout this lecture/practice you will see a lot of things in <>, within each instance please replace <> with your own info**"
   ]
  },
  {
   "cell_type": "markdown",
   "metadata": {
    "slideshow": {
     "slide_type": "fragment"
    }
   },
   "source": [
    "e.g.,\n",
    "\n",
    "`github.com/<your_username>`\n",
    "\n",
    "becomes\n",
    "\n",
    "`github.com/peerherholz`"
   ]
  },
  {
   "cell_type": "markdown",
   "metadata": {
    "slideshow": {
     "slide_type": "slide"
    }
   },
   "source": [
    "<img align=\"top\" src=\"https://uidaholib.github.io/get-git/images/phd101212s.gif\" alt=\"git-phd\" title=\"git-phd\" width=\"550\" height=\"500\" />\n",
    "\n",
    "“Piled Higher and Deeper” by Jorge Cham, http://www.phdcomics.com"
   ]
  },
  {
   "cell_type": "markdown",
   "metadata": {
    "slideshow": {
     "slide_type": "slide"
    }
   },
   "source": [
    "## How does Git work?\n",
    "\n",
    "\n",
    "The basic idea is to:"
   ]
  },
  {
   "cell_type": "markdown",
   "metadata": {
    "slideshow": {
     "slide_type": "subslide"
    }
   },
   "source": [
    "### Record versions by tracking *changes*\n",
    "_(It's like having an unlimited \"undo\" button)_\n",
    "\n",
    "```{image} https://swcarpentry.github.io/git-novice/fig/play-changes.svg\n",
    ":alt: versions\n",
    ":width: 400px\n",
    "-----------------"
   ]
  },
  {
   "cell_type": "markdown",
   "metadata": {
    "slideshow": {
     "slide_type": "subslide"
    }
   },
   "source": [
    "### Make independent changes\n",
    "\n",
    "```{image} https://swcarpentry.github.io/git-novice/fig/versions.svg\n",
    ":alt: versions\n",
    ":width: 400px\n",
    "-----------------"
   ]
  },
  {
   "cell_type": "markdown",
   "metadata": {
    "slideshow": {
     "slide_type": "subslide"
    }
   },
   "source": [
    "### And incorporate the changes\n",
    "\n",
    "\n",
    "```{image} https://swcarpentry.github.io/git-novice/fig/merge.svg\n",
    ":alt: versions\n",
    ":width: 400px\n",
    "\n",
    "\n",
    "-----------------"
   ]
  },
  {
   "cell_type": "markdown",
   "metadata": {},
   "source": [
    "## Where does git store information?\n"
   ]
  },
  {
   "cell_type": "markdown",
   "metadata": {
    "slideshow": {
     "slide_type": "slide"
    }
   },
   "source": [
    "Open your Bash shell (where you typed `git --version` at the beginning)\n",
    "\n",
    "Create a directory (remember Windows' slashes are the other way) bing the following lines of bash code into your shell."
   ]
  },
  {
   "cell_type": "code",
   "execution_count": null,
   "metadata": {},
   "outputs": [],
   "source": [
    "cd ~/Desktop\n",
    "mkdir desserts\n",
    "cd desserts\n"
   ]
  },
  {
   "cell_type": "markdown",
   "metadata": {
    "slideshow": {
     "slide_type": "subslide"
    }
   },
   "source": [
    "To check what's in our directory, we can use the bash command `ls`"
   ]
  },
  {
   "cell_type": "code",
   "execution_count": null,
   "metadata": {},
   "outputs": [],
   "source": [
    "ls -a"
   ]
  },
  {
   "cell_type": "markdown",
   "metadata": {
    "slideshow": {
     "slide_type": "fragment"
    }
   },
   "source": [
    "To create create a git repository, we can simply run the following command in our shell"
   ]
  },
  {
   "cell_type": "code",
   "execution_count": null,
   "metadata": {},
   "outputs": [],
   "source": [
    "git init"
   ]
  },
  {
   "cell_type": "markdown",
   "metadata": {
    "slideshow": {
     "slide_type": "subslide"
    }
   },
   "source": [
    "What's in our directory now?"
   ]
  },
  {
   "cell_type": "code",
   "execution_count": null,
   "metadata": {},
   "outputs": [],
   "source": [
    "ls -a"
   ]
  },
  {
   "cell_type": "markdown",
   "metadata": {
    "slideshow": {
     "slide_type": "fragment"
    }
   },
   "source": [
    "**The `.git` subdirectory is where git stores all the info it needs to do version control**"
   ]
  },
  {
   "cell_type": "markdown",
   "metadata": {
    "slideshow": {
     "slide_type": "slide"
    }
   },
   "source": [
    "## Roadmap\n",
    "\n",
    "- Goals\n",
    "- Setup\n",
    "- Why use git & GitHub?\n",
    "- Where does git store information?\n",
    "- **How do I record changes in git?**\n",
    "- How do I share my changes on the web?\n",
    "- How do I contribute to an existing project?\n",
    "- Goals"
   ]
  },
  {
   "cell_type": "markdown",
   "metadata": {
    "slideshow": {
     "slide_type": "slide"
    }
   },
   "source": [
    "![](static/workflow/w0_init.png)"
   ]
  },
  {
   "cell_type": "markdown",
   "metadata": {
    "slideshow": {
     "slide_type": "subslide"
    }
   },
   "source": [
    "![](static/workflow/w1_local.png)"
   ]
  },
  {
   "cell_type": "markdown",
   "metadata": {
    "slideshow": {
     "slide_type": "subslide"
    }
   },
   "source": [
    "### `git add` and `git commit`\n"
   ]
  },
  {
   "cell_type": "markdown",
   "metadata": {
    "slideshow": {
     "slide_type": "slide"
    }
   },
   "source": [
    "Let's create something to track and see how we can use Git to understand the changes happening to our files.\n",
    "First, open a new file in your text editor\n",
    "```\n",
    "<text editor> desserts.md\n",
    "```\n",
    "-----------------------------------\n",
    "\n",
    "Or in your terminal create a file using the touch command;\n",
    "\n",
    "`touch desserts.md`\n",
    "\n",
    "and open the file using the `nano``\n",
    "\n",
    "`nano desserts.md`\n"
   ]
  },
  {
   "cell_type": "markdown",
   "metadata": {
    "slideshow": {
     "slide_type": "fragment"
    }
   },
   "source": [
    "Write this in the file:\n",
    "\n",
    "> pie\\\n",
    "> ice cream\\\n",
    "> cookies\n",
    "\n",
    "Save and exit (Ctrl + X in Nano)"
   ]
  },
  {
   "cell_type": "markdown",
   "metadata": {
    "slideshow": {
     "slide_type": "subslide"
    }
   },
   "source": [
    "Let's check the status of our repo"
   ]
  },
  {
   "cell_type": "code",
   "execution_count": null,
   "metadata": {},
   "outputs": [],
   "source": [
    "git status"
   ]
  },
  {
   "cell_type": "markdown",
   "metadata": {
    "slideshow": {
     "slide_type": "fragment"
    }
   },
   "source": [
    "Is this file being tracked by git?\n",
    "![](figures/zoom_icons/poll.png)\n",
    "\n",
    "<font color='grey'>(hint: look at what your terminal says)</font>"
   ]
  },
  {
   "cell_type": "markdown",
   "metadata": {
    "lines_to_next_cell": 2,
    "slideshow": {
     "slide_type": "fragment"
    }
   },
   "source": [
    "How can we include this file in what will be committed?\n",
    "![](figures/zoom_icons/chat_mic.png)"
   ]
  },
  {
   "cell_type": "markdown",
   "metadata": {
    "slideshow": {
     "slide_type": "subslide"
    }
   },
   "source": [
    "Let's stage the change"
   ]
  },
  {
   "cell_type": "code",
   "execution_count": null,
   "metadata": {},
   "outputs": [],
   "source": [
    "git add desserts.md"
   ]
  },
  {
   "cell_type": "markdown",
   "metadata": {
    "slideshow": {
     "slide_type": "fragment"
    }
   },
   "source": [
    "Let's check the status of our `repo`"
   ]
  },
  {
   "cell_type": "code",
   "execution_count": null,
   "metadata": {},
   "outputs": [],
   "source": [
    "git status"
   ]
  },
  {
   "cell_type": "markdown",
   "metadata": {
    "slideshow": {
     "slide_type": "subslide"
    }
   },
   "source": [
    "Let's commit the change"
   ]
  },
  {
   "cell_type": "code",
   "execution_count": null,
   "metadata": {},
   "outputs": [],
   "source": [
    "git commit -m \"list my favorite desserts\""
   ]
  },
  {
   "cell_type": "markdown",
   "metadata": {
    "slideshow": {
     "slide_type": "fragment"
    }
   },
   "source": [
    "Let's check the status of our `repo`"
   ]
  },
  {
   "cell_type": "code",
   "execution_count": null,
   "metadata": {},
   "outputs": [],
   "source": [
    "git status"
   ]
  },
  {
   "cell_type": "markdown",
   "metadata": {
    "lines_to_next_cell": 2,
    "slideshow": {
     "slide_type": "slide"
    }
   },
   "source": [
    "**I changed my mind...**\n",
    "\n",
    "Cookies are better than ice cream, so let's correct our desserts file."
   ]
  },
  {
   "cell_type": "markdown",
   "metadata": {
    "slideshow": {
     "slide_type": "fragment"
    }
   },
   "source": [
    "```\n",
    "$ <text editor> desserts.md\n",
    "```\n",
    "\n",
    "> pie\\\n",
    "> cookies\\\n",
    "> ice cream\n",
    "\n",
    "Save and exit"
   ]
  },
  {
   "cell_type": "markdown",
   "metadata": {
    "slideshow": {
     "slide_type": "subslide"
    }
   },
   "source": [
    "Let's see what actually changed, input; \n",
    "\n",
    "`git diff`\n",
    "\n"
   ]
  },
  {
   "cell_type": "markdown",
   "metadata": {
    "slideshow": {
     "slide_type": "fragment"
    }
   },
   "source": [
    "Try it for yourself! Let's stage and commit the change:\n",
    "\n",
    "```\n",
    "git ____ desserts.md\n",
    "git ____ -m \"switch cookies and ice cream\"\n",
    "```\n",
    "![](figures/zoom_icons/chat_mic.png)"
   ]
  },
  {
   "cell_type": "markdown",
   "metadata": {
    "lines_to_next_cell": 2,
    "slideshow": {
     "slide_type": "slide"
    }
   },
   "source": [
    "## Check your understanding"
   ]
  },
  {
   "cell_type": "markdown",
   "metadata": {
    "lines_to_next_cell": 2,
    "slideshow": {
     "slide_type": "fragment"
    }
   },
   "source": [
    "1. What does git track?\n",
    "    A. Every Letter we changed\n",
    "    B. Every relevant change\n",
    "    C. Every change to a file that is actively being tracked\n",
    "\n",
    "2. How do I get Git to track a change?\n",
    "    git ___ \n",
    "    \n",
    "Put these in order:\n",
    "\n",
    "a) `git commit -m \"<this is what I did>\"`\\\n",
    "b) make the change\\\n",
    "c) `git add <file>`\n",
    "\n",
    "![](figures/zoom_icons/poll.png)"
   ]
  },
  {
   "cell_type": "markdown",
   "metadata": {
    "slideshow": {
     "slide_type": "subslide"
    }
   },
   "source": [
    "## Create a remote repo\n",
    "\n",
    "Let's share our important work with world: \n",
    "_Note: For a more in-depth explanation on how to do this check the [Intro to GitHub](https://diler-digitell.github.io/DiLER_digital_literacy_course/content/github.html)_"
   ]
  },
  {
   "cell_type": "markdown",
   "metadata": {
    "slideshow": {
     "slide_type": "fragment"
    }
   },
   "source": [
    "- Go to [github.com](https://github.com/)\n",
    "- In the top right corner click the `+` symbol and select  **New Repository**\n",
    "- Enter the repo name desserts\n",
    "- Choose to make your repo Public or Private\n",
    "- Don't check any boxes\n",
    "- Click **Create repository**\n"
   ]
  },
  {
   "cell_type": "markdown",
   "metadata": {
    "slideshow": {
     "slide_type": "subslide"
    }
   },
   "source": [
    "## Link it to your local repo"
   ]
  },
  {
   "cell_type": "markdown",
   "metadata": {
    "slideshow": {
     "slide_type": "fragment"
    }
   },
   "source": [
    "Tell git the URL of your `remote repo` and name it 'origin'"
   ]
  },
  {
   "cell_type": "code",
   "execution_count": null,
   "metadata": {},
   "outputs": [],
   "source": [
    "git remote add origin https://github.com/<yourusername>/desserts.git"
   ]
  },
  {
   "cell_type": "markdown",
   "metadata": {
    "lines_to_next_cell": 2,
    "slideshow": {
     "slide_type": "fragment"
    }
   },
   "source": [
    "Set the name of your principle branch to main (if it's not already)"
   ]
  },
  {
   "cell_type": "code",
   "execution_count": null,
   "metadata": {},
   "outputs": [],
   "source": [
    "git branch -M main"
   ]
  },
  {
   "cell_type": "markdown",
   "metadata": {
    "lines_to_next_cell": 2,
    "slideshow": {
     "slide_type": "subslide"
    }
   },
   "source": [
    "Push your changes to `GitHub`"
   ]
  },
  {
   "cell_type": "code",
   "execution_count": null,
   "metadata": {},
   "outputs": [],
   "source": [
    "git push -u origin main"
   ]
  },
  {
   "cell_type": "markdown",
   "metadata": {
    "slideshow": {
     "slide_type": "fragment"
    }
   },
   "source": [
    "Refresh your GitHub repo and check the directory"
   ]
  },
  {
   "cell_type": "markdown",
   "metadata": {
    "slideshow": {
     "slide_type": "slide"
    }
   },
   "source": [
    "## Did we meet our goals?"
   ]
  },
  {
   "cell_type": "markdown",
   "metadata": {
    "slideshow": {
     "slide_type": "subslide"
    }
   },
   "source": [
    "#### 1. Explain why Git & GitHub are useful"
   ]
  },
  {
   "cell_type": "markdown",
   "metadata": {
    "slideshow": {
     "slide_type": "fragment"
    }
   },
   "source": [
    "... to a new grad student\n",
    "![](figures/zoom_icons/chat_mic.png)"
   ]
  },
  {
   "cell_type": "markdown",
   "metadata": {
    "lines_to_next_cell": 2,
    "slideshow": {
     "slide_type": "subslide"
    }
   },
   "source": [
    "#### 2. Track and share your work using git/GitHub (git level 1: commit push)\n"
   ]
  },
  {
   "cell_type": "markdown",
   "metadata": {
    "slideshow": {
     "slide_type": "fragment"
    }
   },
   "source": [
    "`status` &nbsp; &nbsp;\n",
    "`add` &nbsp; &nbsp;\n",
    "`init` &nbsp; &nbsp;\n",
    "`commit` &nbsp; &nbsp;\n",
    "`diff` &nbsp; &nbsp;\n",
    "`push` &nbsp; &nbsp;\n",
    "\n",
    "**Basic workflow for tracking a change and putting it on GitHub**\n",
    "- make a change\n",
    "- stage the change: `git ____ <filename>`\n",
    "- commit the change: `git ____ -m \"<commit message>\"`\n",
    "- put the change on GitHub: `git ____ origin main`"
   ]
  },
  {
   "cell_type": "markdown",
   "metadata": {
    "slideshow": {
     "slide_type": "subslide"
    }
   },
   "source": [
    "**See what's happening with git**\n",
    "- show the working tree status: `git ____`\n",
    "- show how the file changed: `git ____`"
   ]
  },
  {
   "cell_type": "markdown",
   "metadata": {
    "slideshow": {
     "slide_type": "subslide"
    }
   },
   "source": [
    "### General tips:\n",
    "\n",
    "- Git is hard\n",
    "- Don't expect to remember everything\n",
    "- Keep common commands on a sticky note\n",
    "- To learn it, you need to *commit* to doing it\n",
    "\n"
   ]
  },
  {
   "cell_type": "markdown",
   "metadata": {
    "lines_to_next_cell": 2,
    "slideshow": {
     "slide_type": "slide"
    }
   },
   "source": [
    "## Quick feedback\n",
    "\n",
    "##### How much of this tutorial could you follow?\n",
    "- 100 %\n",
    "- 75 %\n",
    "- 50 %\n",
    "- 25 %\n",
    "- 0 %\n",
    "\n",
    "##### Where there any major hurdles?"
   ]
  },
  {
   "cell_type": "markdown",
   "metadata": {
    "slideshow": {
     "slide_type": "slide"
    }
   },
   "source": [
    "## Acknowledgements\n",
    "\n",
    "<br>\n",
    "\n",
    "- most of what you’ll see within this lecture was prepared by Kendra Oudyk and further adapted by Peer Herholz, Michael Ernst & Felix Körber\n",
    "- based on the Software Carpentries \"[Version control with Git](https://swcarpentry.github.io/git-novice/)\" under CC-BY 4.0\n",
    "\n",
    "\n",
    "[Michael Ernst](https://github.com/M-earnest)  \n",
    "Phd student - [Fiebach Lab](http://www.fiebachlab.org/), [Neurocognitive Psychology](https://www.psychologie.uni-frankfurt.de/49868684/Abteilungen) at [Goethe-University Frankfurt](https://www.goethe-university-frankfurt.de/en?locale=en)\n",
    "\n",
    "\n",
    "[Peer Herholz (he/him)](https://peerherholz.github.io/)  \n",
    "Research affiliate - [NeuroDataScience lab](https://neurodatascience.github.io/) at [MNI](https://www.mcgill.ca/neuro/)/[MIT](https://www.mit.edu/)  \n",
    "Member - [BIDS](https://bids-specification.readthedocs.io/en/stable/), [ReproNim](https://www.repronim.org/), [Brainhack](https://brainhack.org/), [Neuromod](https://www.cneuromod.ca/), [OHBM SEA-SIG](https://ohbm-environment.org/), [UNIQUE](https://sites.google.com/view/unique-neuro-ai)  \n",
    "\n",
    "<img align=\"left\" src=\"https://raw.githubusercontent.com/G0RELLA/gorella_mwn/master/lecture/static/Twitter%20social%20icons%20-%20circle%20-%20blue.png\" alt=\"logo\" title=\"Twitter\" width=\"32\" height=\"20\" /> <img align=\"left\" src=\"https://raw.githubusercontent.com/G0RELLA/gorella_mwn/master/lecture/static/GitHub-Mark-120px-plus.png\" alt=\"logo\" title=\"Github\" width=\"30\" height=\"20\" />   &nbsp;&nbsp;@peerherholz "
   ]
  }
 ],
 "metadata": {
  "celltoolbar": "Slideshow",
  "jupytext": {
   "encoding": "# -*- coding: utf-8 -*-",
   "formats": "ipynb,py:light"
  },
  "kernelspec": {
   "display_name": "Python 3 (ipykernel)",
   "language": "python",
   "name": "python3"
  },
  "language_info": {
   "codemirror_mode": {
    "name": "ipython",
    "version": 3
   },
   "file_extension": ".py",
   "mimetype": "text/x-python",
   "name": "python",
   "nbconvert_exporter": "python",
   "pygments_lexer": "ipython3",
   "version": "3.7.6"
  }
 },
 "nbformat": 4,
 "nbformat_minor": 2
}
