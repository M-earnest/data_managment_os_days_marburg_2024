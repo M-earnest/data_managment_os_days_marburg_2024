{
 "cells": [
  {
   "cell_type": "code",
   "execution_count": 1,
   "id": "3b5d2258-2c38-433e-a7ab-d1c2454b1306",
   "metadata": {},
   "outputs": [],
   "source": [
    "## ToDo\n",
    "## manipulate signal _> filtering in modulation domain; time scramble\n",
    "## compute 2d FT; check different appraoches in literature \n",
    "        ## elliot, thomasson 2009 paper -> focus\n",
    "        ## singh & thomasson\n",
    "\n",
    "\n",
    "## check pytmst again"
   ]
  },
  {
   "cell_type": "code",
   "execution_count": 2,
   "id": "2b590731-41f3-4936-bf40-aa7b0481ace9",
   "metadata": {},
   "outputs": [
    {
     "ename": "ModuleNotFoundError",
     "evalue": "No module named 'utils'",
     "output_type": "error",
     "traceback": [
      "\u001b[0;31m---------------------------------------------------------------------------\u001b[0m",
      "\u001b[0;31mModuleNotFoundError\u001b[0m                       Traceback (most recent call last)",
      "Cell \u001b[0;32mIn[2], line 22\u001b[0m\n\u001b[1;32m     18\u001b[0m \u001b[38;5;28;01mfrom\u001b[39;00m \u001b[38;5;21;01mscipy\u001b[39;00m\u001b[38;5;21;01m.\u001b[39;00m\u001b[38;5;21;01msignal\u001b[39;00m \u001b[38;5;28;01mimport\u001b[39;00m hilbert\n\u001b[1;32m     19\u001b[0m \u001b[38;5;66;03m#from gammatone.filters import make_erb_filters, erb_filterbank\u001b[39;00m\n\u001b[0;32m---> 22\u001b[0m \u001b[38;5;28;01mfrom\u001b[39;00m \u001b[38;5;21;01mutils\u001b[39;00m \u001b[38;5;28;01mimport\u001b[39;00m define_modulation_axis, segment_into_windows, periodogram, lombscargle, remove_artifacts, interpmean\n\u001b[1;32m     23\u001b[0m \u001b[38;5;28;01mfrom\u001b[39;00m \u001b[38;5;21;01mpyLTFAT\u001b[39;00m \u001b[38;5;28;01mimport\u001b[39;00m aud_filt_bw\n\u001b[1;32m     24\u001b[0m \u001b[38;5;28;01mfrom\u001b[39;00m \u001b[38;5;21;01mpyAMT\u001b[39;00m \u001b[38;5;28;01mimport\u001b[39;00m auditory_filterbank, king2019_modfilterbank_updated\n",
      "\u001b[0;31mModuleNotFoundError\u001b[0m: No module named 'utils'"
     ]
    }
   ],
   "source": [
    "import pyworld as pw\n",
    "import numpy as np\n",
    "from scipy.io import wavfile\n",
    "import matplotlib.pyplot as plt\n",
    "from scipy.signal import convolve\n",
    "import sys\n",
    "import os\n",
    "\n",
    "# Adding directories manually\n",
    "sys.path.append('/Users/me/phd/projects/git/DRhyaDS-main')\n",
    "sys.path.append('/Users/me/phd/projects/git/DRhyaDS-main/drhyads_env/lib/python3.10/site-packages/pyTMST')\n",
    "sys.path.append('/Users/me/phd/projects/git/DRhyaDS-main/drhyads_env/lib/python3.10/site-packages/utils')\n",
    "sys.path.append('/Users/me/phd/projects/git/DRhyaDS-main/drhyads_env/lib/python3.10/site-packages/gammatone')\n",
    "\n",
    "\n",
    "from collections import namedtuple\n",
    "import numpy as np\n",
    "from scipy.signal import hilbert\n",
    "#from gammatone.filters import make_erb_filters, erb_filterbank\n",
    "\n",
    "\n",
    "from utils import define_modulation_axis, segment_into_windows, periodogram, lombscargle, remove_artifacts, interpmean\n",
    "from pyLTFAT import aud_filt_bw\n",
    "from pyAMT import auditory_filterbank, king2019_modfilterbank_updated\n",
    "from yin import librosa_yin\n",
    "from pyLTFAT import aud_space_bw\n",
    "from gammatone.filters import make_erb_filters, erb_filterbank\n",
    "\n",
    "\n",
    "# Now import modules\n",
    "import modpeaks\n",
    "import importlib\n",
    "importlib.reload(modpeaks)\n",
    "from scipy.io.wavfile import write\n",
    "\n",
    "\n",
    "AMa_spec_params = namedtuple('AMa_spec_params', ['t', 'f_bw', 'gamma_responses', 'E', 'mf', 'mfb'])\n",
    "AMa_scalogram_params = namedtuple('AMa_scalogram_params', ['t', 'f_bw', 'gamma_responses', 'E', 'scale', 'fc'])\n",
    "AMi_spec_params = namedtuple('AMi_spec_params', ['t', 'f_bw', 'gamma_responses', 'E', 'mf', 'AMrms', 'DC'])\n",
    "f0M_spec_params = namedtuple('f0M_spec_params', ['t', 'f0', 'mf', 'mfb'])\n"
   ]
  },
  {
   "cell_type": "code",
   "execution_count": null,
   "id": "1c3c5e53-d9ab-4ea3-8c99-387026a00c9a",
   "metadata": {},
   "outputs": [],
   "source": [
    "file_path = '/Users/me/Downloads/noise.wav'\n",
    "fs = 44100\n",
    "\n",
    "fs, data = wavfile.read(file_path)\n",
    "length = data.shape[0] / fs\n",
    "time = np.linspace(0., length, data.shape[0])\n",
    "\n",
    "plt.plot(time, data[:], label=\"Left channel\")\n",
    "#plt.plot(time, data[:, 1], label=\"Right channel\")\n",
    "\n",
    "plt.legend()\n",
    "plt.xlabel(\"t\")\n",
    "plt.ylabel(\"Amplitude\")\n",
    "plt.show()"
   ]
  },
  {
   "cell_type": "code",
   "execution_count": null,
   "id": "77adba6a-8211-407b-b691-95ceb065f061",
   "metadata": {},
   "outputs": [],
   "source": [
    "x = data.astype('double')\n",
    "\n",
    "_f0, t = pw.dio(x, fs)    # raw pitch extractor\n",
    "f0 = pw.stonemask(x, _f0, t, fs)  # pitch refinement\n",
    "sp = pw.cheaptrick(x, f0, t, fs)  # extract smoothed spectrogram\n",
    "ap = pw.d4c(x, f0, t, fs)         # extract aperiodicity\n",
    "\n",
    "y = pw.synthesize(f0, sp, ap, fs) # synthesize an utterance using the parameters"
   ]
  },
  {
   "cell_type": "code",
   "execution_count": null,
   "id": "cb18d868-cedf-4eb6-be98-75dbb8fc6abb",
   "metadata": {},
   "outputs": [],
   "source": [
    "file_path = '/Users/me/Downloads/1_intact_mono.wav'\n",
    "fs = 44100\n",
    "\n",
    "fs, data = wavfile.read(file_path)\n",
    "length = data.shape[0] / fs\n",
    "time = np.linspace(0., length, data.shape[0])\n",
    "\n",
    "plt.plot(time, data[:], label=\"Left channel\")\n",
    "#plt.plot(time, data[:, 1], label=\"Right channel\")\n",
    "\n",
    "plt.legend()\n",
    "plt.xlabel(\"t\")\n",
    "plt.ylabel(\"Amplitude\")\n",
    "plt.show()"
   ]
  },
  {
   "cell_type": "code",
   "execution_count": null,
   "id": "1d16f1b6-9a55-4698-8c02-41a8afda8eb1",
   "metadata": {},
   "outputs": [],
   "source": [
    "x = data.astype('double')\n",
    "\n",
    "_f0, t = pw.dio(x, fs)    # raw pitch\n",
    "f0 = pw.stonemask(x, _f0, t, fs)  # pitch\n",
    "sp = pw.cheaptrick(x, f0, t, fs)  # extract smoothed spectrogram\n",
    "ap = pw.d4c(x, f0, t, fs)         # extract aperiodicity\n",
    "\n",
    "y = pw.synthesize(f0, sp, ap, fs) # synthesize an utterance using the parameters"
   ]
  },
  {
   "cell_type": "code",
   "execution_count": null,
   "id": "42505b4a-6576-4221-8936-38b1faafccbe",
   "metadata": {},
   "outputs": [],
   "source": [
    "\n",
    "# Plot raw and refined pitch contours\n",
    "plt.figure(figsize=(15, 8))\n",
    "\n",
    "# Plot raw pitch contour\n",
    "plt.subplot(3, 1, 1)\n",
    "plt.plot(t, _f0, label=\"_f0\", color=\"blue\")\n",
    "plt.plot(t, f0, label=\"f0\", color=\"red\")\n",
    "plt.xlabel(\"Time [s]\")\n",
    "plt.ylabel(\"Frequency [Hz]\")\n",
    "plt.legend()\n",
    "plt.title(\"Pitch Contour\")\n",
    "\n",
    "\n",
    "# Plot spectrogram\n",
    "plt.subplot(3, 1, 2)\n",
    "plt.imshow(np.log(sp.T + 1e-8), aspect=\"auto\", origin=\"lower\", extent=[0, t[-1], 0, fs / 2])\n",
    "plt.xlabel(\"Time [s]\")\n",
    "plt.ylabel(\"Frequency [Hz]\")\n",
    "plt.title(\"Logarithmic Smoothed Spectrogram\")\n",
    "\n",
    "# Plot aperiodicity\n",
    "plt.subplot(3, 1, 3)\n",
    "plt.imshow(ap.T, aspect=\"auto\", origin=\"lower\", extent=[0, t[-1], 0, fs / 2])\n",
    "plt.xlabel(\"Time [s]\")\n",
    "plt.ylabel(\"Frequency [Hz]\")\n",
    "plt.title(\"Aperiodicity\")\n",
    "\n",
    "plt.tight_layout()\n",
    "plt.show()\n",
    "\n",
    "# Plot synthesized waveform\n",
    "plt.figure(figsize=(15, 4))\n",
    "plt.plot(y, color=\"green\")\n",
    "plt.xlabel(\"Sample Index\")\n",
    "plt.ylabel(\"Amplitude\")\n",
    "plt.title(\"Synthesized Waveform\")\n",
    "plt.show()\n"
   ]
  },
  {
   "cell_type": "code",
   "execution_count": null,
   "id": "3d1e2068-5838-49ee-80b4-882a3429a8e3",
   "metadata": {},
   "outputs": [],
   "source": [
    "file_path = '/Users/me/Desktop/A-C_stim_300.wav'\n",
    "fs, data = wavfile.read(file_path)\n",
    "length = data[:,0].shape[0] / fs\n",
    "time = np.linspace(0., length, data[:,0].shape[0])\n",
    "\n",
    "plt.plot(time, data[:, 0], label=\"Left channel\")\n",
    "#plt.plot(time, data[:, 1], label=\"Right channel\")\n",
    "\n",
    "plt.legend()\n",
    "plt.xlabel(\"t\")\n",
    "plt.ylabel(\"Amplitude\")\n",
    "plt.show()\n",
    "\n",
    "x = data[:,0].astype('double')\n",
    "\n",
    "_f0, t = pw.dio(x, fs)    # raw pitch extractor\n",
    "f0 = pw.stonemask(x, _f0, t, fs)  # pitch refinement\n",
    "sp = pw.cheaptrick(x, f0, t, fs)  # extract smoothed spectrogram\n",
    "ap = pw.d4c(x, f0, t, fs)         # extract aperiodicity\n",
    "## check how this separates ocilattory /non-oscillatory\n",
    "\n",
    "y = pw.synthesize(f0, sp, ap, fs) # synthesize an utterance using the parameters"
   ]
  },
  {
   "cell_type": "code",
   "execution_count": null,
   "id": "1d091173-ec28-4de4-90c9-9aedcf333746",
   "metadata": {},
   "outputs": [],
   "source": [
    "# Plot raw and refined pitch contours\n",
    "plt.figure(figsize=(15, 8))\n",
    "\n",
    "# Plot raw pitch contour\n",
    "plt.subplot(3, 1, 1)\n",
    "plt.plot(t, _f0, label=\"_f0\", color=\"blue\")\n",
    "plt.plot(t, f0, label=\"f0\", color=\"red\")\n",
    "plt.xlabel(\"Time [s]\")\n",
    "plt.ylabel(\"Frequency [Hz]\")\n",
    "plt.legend()\n",
    "plt.title(\"Pitch Contour\")\n",
    "\n",
    "# Plot spectrogram\n",
    "plt.subplot(3, 1, 2)\n",
    "plt.imshow(np.log(sp.T + 1e-8), aspect=\"auto\", origin=\"lower\", extent=[0, t[-1], 0, fs / 2])\n",
    "plt.xlabel(\"Time [s]\")\n",
    "plt.ylabel(\"Frequency [Hz]\")\n",
    "plt.title(\"Logarithmic Smoothed Spectrogram\")\n",
    "\n",
    "# Plot aperiodicity\n",
    "plt.subplot(3, 1, 3)\n",
    "plt.imshow(ap.T, aspect=\"auto\", origin=\"lower\", extent=[0, t[-1], 0, fs / 2])\n",
    "plt.xlabel(\"Time [s]\")\n",
    "plt.ylabel(\"Frequency [Hz]\")\n",
    "plt.title(\"Aperiodicity\")\n",
    "\n",
    "plt.tight_layout()\n",
    "plt.show()\n",
    "\n",
    "# Plot synthesized waveform\n",
    "plt.figure(figsize=(15, 4))\n",
    "plt.plot(y, color=\"green\")\n",
    "plt.xlabel(\"t index\")\n",
    "plt.ylabel(\"Amplitude\")\n",
    "plt.title(\"Synthesized Waveform\")\n",
    "plt.show()\n"
   ]
  },
  {
   "cell_type": "code",
   "execution_count": null,
   "id": "f560d6b0-11ba-41b6-ae0c-d7b1f8bfd00b",
   "metadata": {},
   "outputs": [],
   "source": [
    "#write(\"/Users/me/Desktop/example_reconstruction.wav\", fs, y.astype(np.int16))"
   ]
  },
  {
   "cell_type": "code",
   "execution_count": null,
   "id": "fb4fe288-4027-45be-93d4-cbc63ffe8933",
   "metadata": {},
   "outputs": [],
   "source": [
    "\n",
    "\n",
    "def gammatone_filter(t, fc, n=4, erb=1.0):\n",
    "    \"\"\"\n",
    "    Generate gammatone filter impulse response\n",
    "\n",
    "    Parameters:\n",
    "    - t: time array\n",
    "    - fc: center frequency of the filter in Hz \n",
    "    - n: order of the filter \n",
    "    - erb: bandwidth scale\n",
    "\n",
    "    Returns:\n",
    "    - Impulse response of the gammatone filter\n",
    "    \"\"\"\n",
    "    # ERB bandwidth with cf\n",
    "    erb_bandwidth = erb * (24.7 * (4.37 * fc / 1000 + 1))\n",
    "    alpha = 2 * np.pi * erb_bandwidth  # Decay rate\n",
    "\n",
    "    # impulse response\n",
    "    # gamma-decay term = (t^(n-1) * exp(-alpha * t)) - multiplied by tone (cos(2 * pi * fc * t))\n",
    "    impulse_response = (t**(n-1)) * np.exp(-alpha * t) * np.cos(2 * np.pi * fc * t)\n",
    "    return impulse_response"
   ]
  },
  {
   "cell_type": "code",
   "execution_count": null,
   "id": "da537dd6-606f-491a-b6df-7e3da850f701",
   "metadata": {},
   "outputs": [],
   "source": [
    "fc = 1000   # Cf in Hz \n",
    "duration = 0.01  \n",
    "\n",
    "t = np.linspace(0, duration, int(fs * duration), endpoint=False)\n",
    "\n",
    "# gammatone impulse response\n",
    "response = gammatone_filter(t, fc,n=4, erb=1.0)\n",
    "\n",
    "filtered_left = convolve(y, response, mode='same')\n",
    "#filtered_right = convolve(data[:, 1], response, mode='same')"
   ]
  },
  {
   "cell_type": "code",
   "execution_count": null,
   "id": "bbf6ac71-f627-4777-a7c8-38eca364d7a3",
   "metadata": {},
   "outputs": [],
   "source": [
    "# Plot the original and filtered signals in separate plots for clarity\n",
    "length = filtered_left.shape[0] / fs\n",
    "time = np.linspace(0., length, filtered_left.shape[0])\n",
    "\n",
    "\n",
    "plt.figure(figsize=(12, 10))\n",
    "\n",
    "\n",
    "# Plot filtered left channel\n",
    "plt.subplot(4, 1, 2)\n",
    "plt.plot(time, filtered_left, label=\"Filtered Left Channel (Gammatone)\", color='red')\n",
    "plt.legend()\n",
    "plt.xlabel(\"Time [s]\")\n",
    "plt.ylabel(\"Amplitude\")\n",
    "plt.title(\"Filtered Left Channel (Gammatone)\")\n",
    "plt.show()\n"
   ]
  },
  {
   "cell_type": "code",
   "execution_count": null,
   "id": "09c0a2c6-a80d-422d-ae2f-5424337017ab",
   "metadata": {},
   "outputs": [],
   "source": [
    "#write(\"/Users/me/Desktop/example_reconstruction_filtered.wav\", fs, filtered_left.astype(np.int16))"
   ]
  },
  {
   "cell_type": "code",
   "execution_count": null,
   "id": "71e0e5e9-0374-4b6a-a019-ac2a31b6cdda",
   "metadata": {},
   "outputs": [],
   "source": [
    "file_path = '/Users/me/Downloads/1_intact_mono.wav'\n",
    "fs = 44100\n",
    "\n",
    "fs, data = wavfile.read(file_path)\n",
    "length = data.shape[0] / fs\n",
    "time = np.linspace(0., length, data.shape[0])\n",
    "\n",
    "\n",
    "x = data.astype('double')\n",
    "\n",
    "_f0, t = pw.dio(x, fs)    # raw pitch\n",
    "f0 = pw.stonemask(x, _f0, t, fs)  # pitch\n",
    "sp = pw.cheaptrick(x, f0, t, fs)  # extract smoothed spectrogram\n",
    "ap = pw.d4c(x, f0, t, fs)         # extract aperiodicity\n",
    "\n",
    "y = pw.synthesize(f0, sp, ap, fs) # synthesize an utterance using the parameters"
   ]
  },
  {
   "cell_type": "code",
   "execution_count": null,
   "id": "525dfa6f-dbab-47d5-b1ff-cf016b5614bc",
   "metadata": {},
   "outputs": [],
   "source": [
    "avgAMa, f_spectrum = modpeaks.avg_AMa_from_signal(x, fs)"
   ]
  },
  {
   "cell_type": "code",
   "execution_count": null,
   "id": "9bff25f8-6ffc-40bf-8037-ed527ce44b1d",
   "metadata": {},
   "outputs": [],
   "source": [
    "import scipy\n",
    "scipy.__version__"
   ]
  },
  {
   "cell_type": "code",
   "execution_count": null,
   "id": "8101bd6a-4623-47f3-82ef-03d0b88b3dbe",
   "metadata": {},
   "outputs": [],
   "source": [
    "from scipy.signal._wavelets import _cwt, _ricker\n"
   ]
  },
  {
   "cell_type": "code",
   "execution_count": null,
   "id": "75d02fdf-aa50-4802-ac86-f48039b78474",
   "metadata": {},
   "outputs": [],
   "source": [
    "from scipy.signal import cwt"
   ]
  },
  {
   "cell_type": "code",
   "execution_count": null,
   "id": "9f396d32-918f-4a1b-80f9-a1b1571ece46",
   "metadata": {},
   "outputs": [],
   "source": [
    "from scipy.signal._peak_finding import _identify_ridge_lines"
   ]
  },
  {
   "cell_type": "code",
   "execution_count": null,
   "id": "a8f26850-4daa-4c6e-a8d4-6b435a5c582a",
   "metadata": {},
   "outputs": [],
   "source": [
    "pip install --upgrade scipy"
   ]
  },
  {
   "cell_type": "code",
   "execution_count": null,
   "id": "393b507c-1440-4571-92f3-5d04844410b3",
   "metadata": {},
   "outputs": [],
   "source": [
    "f_spectrum"
   ]
  },
  {
   "cell_type": "code",
   "execution_count": null,
   "id": "7825ec75-0ce9-400f-9497-720e903b18ec",
   "metadata": {},
   "outputs": [],
   "source": [
    "avgAMa"
   ]
  },
  {
   "cell_type": "code",
   "execution_count": null,
   "id": "ce1c450b-265c-456a-bc9e-b49620807bf9",
   "metadata": {},
   "outputs": [],
   "source": [
    "def plot_peaks_on_spectra(ax,\n",
    "                          specFreqs,\n",
    "                          AMspecs,\n",
    "                          find_peaks,\n",
    "                          find_options,\n",
    "                          baseline_remove=None,\n",
    "                          baseline_options=None,\n",
    "                          smooth=None,\n",
    "                          smooth_options=None,\n",
    "                          freq_cutoff=100,\n",
    "                          enforce_cutoff=True):\n",
    "\n",
    "    for freqs, AMspec in zip(specFreqs, AMspecs):\n",
    "        \n",
    "        if enforce_cutoff:\n",
    "            # Find values above freq_cutoff if enforce_cutoff is True\n",
    "            cutoff_indices = np.nonzero(freqs > freq_cutoff)[0]\n",
    "            cutoff = cutoff_indices[0] if cutoff_indices.size > 0 else len(freqs)\n",
    "        else:\n",
    "            # Use the entire range if cutoff is disabled\n",
    "            cutoff = len(freqs)\n",
    "            \n",
    "        freqs = freqs[:cutoff]\n",
    "        AMspec = AMspec[:cutoff]\n",
    "\n",
    "        logAMspec = 10 * np.log10(AMspec)\n",
    "        s = logAMspec\n",
    "\n",
    "        # Apply smoothing if specified\n",
    "        if smooth is not None:\n",
    "            s = smooth(s, smooth_options)\n",
    "\n",
    "        # Apply baseline removal if specified\n",
    "        if baseline_remove is not None:\n",
    "            s = baseline_remove(s, baseline_options)\n",
    "            ax.plot(freqs, s)\n",
    "\n",
    "        # Peak selection\n",
    "        locs, peaks, *rest = find_peaks(s, find_options)\n",
    "        ax.plot(freqs, logAMspec)\n",
    "        ax.scatter(freqs[locs], peaks - s[locs] + logAMspec[locs], marker=7, color='red', zorder=len(AMspecs))\n",
    "\n",
    "    ax.set_xscale('log')\n"
   ]
  },
  {
   "cell_type": "code",
   "execution_count": null,
   "id": "b857cd71-c8b0-4d31-a0a3-41ecc457b2c2",
   "metadata": {},
   "outputs": [],
   "source": [
    "\n",
    "# Create a figure and axis for the plot\n",
    "fig, ax = plt.subplots(figsize=(10, 5))\n",
    "find_options = {\"wmin\": 1, \"wmax\": 31}\n",
    "# Call plot_peaks_on_spectra to visualize the AM spectrum with peaks\n",
    "plot_peaks_on_spectra(\n",
    "    ax,\n",
    "    [f_spectrum],       # Frequency spectrum as a list\n",
    "    [avgAMa],           # AM spectrum as a list\n",
    "    modpeaks.find_peaks_cwt,     # Peak-finding function\n",
    "    find_options        # Options for the peak-finding function\n",
    ")\n",
    "\n",
    "plt.title(\"Amplitude Modulation Spectrum with Detected Peaks\")\n",
    "plt.show()"
   ]
  },
  {
   "cell_type": "code",
   "execution_count": null,
   "id": "899ce952-8249-4a35-973d-841b3aab74d6",
   "metadata": {},
   "outputs": [],
   "source": [
    "# ToDO\n",
    "# - apply cwt transform; compare output to Leo"
   ]
  }
 ],
 "metadata": {
  "kernelspec": {
   "display_name": "Python 3 (ipykernel)",
   "language": "python",
   "name": "python3"
  },
  "language_info": {
   "codemirror_mode": {
    "name": "ipython",
    "version": 3
   },
   "file_extension": ".py",
   "mimetype": "text/x-python",
   "name": "python",
   "nbconvert_exporter": "python",
   "pygments_lexer": "ipython3",
   "version": "3.10.9"
  }
 },
 "nbformat": 4,
 "nbformat_minor": 5
}
